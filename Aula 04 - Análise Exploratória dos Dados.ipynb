{
 "cells": [
  {
   "cell_type": "markdown",
   "metadata": {},
   "source": [
    "# Aula 04 - Análise Exploratória dos Dados"
   ]
  },
  {
   "cell_type": "code",
   "execution_count": null,
   "metadata": {},
   "outputs": [],
   "source": [
    "import warnings\n",
    "warnings.filterwarnings('ignore')\n",
    "\n",
    "file = open('files/adult.data', 'r')"
   ]
  },
  {
   "cell_type": "code",
   "execution_count": null,
   "metadata": {},
   "outputs": [],
   "source": [
    "!cat files/adult.data"
   ]
  },
  {
   "cell_type": "code",
   "execution_count": null,
   "metadata": {},
   "outputs": [],
   "source": [
    "def chr_int(a):\n",
    "    if a.isdigit():\n",
    "        return int(a)\n",
    "    else:\n",
    "        return 0\n",
    "                \n",
    "data=[]\n",
    "for line in file:\n",
    "     data1=line.split(', ')\n",
    "     if len(data1)==15:\n",
    "        data.append([chr_int(data1[0]),data1[1],chr_int(data1[2]),data1[3],chr_int(data1[4]),data1[5],data1[6],\\\n",
    "            data1[7],data1[8],data1[9],chr_int(data1[10]),chr_int(data1[11]),chr_int(data1[12]),data1[13],\\\n",
    "            data1[14]])"
   ]
  },
  {
   "cell_type": "code",
   "execution_count": null,
   "metadata": {},
   "outputs": [],
   "source": [
    "print (data[1:2])"
   ]
  },
  {
   "cell_type": "code",
   "execution_count": null,
   "metadata": {},
   "outputs": [],
   "source": [
    "%matplotlib inline\n",
    "import pandas as pd\n",
    "\n",
    "df = pd.DataFrame(data) # data frame de duas dimensões\n",
    "\n",
    "df.columns = ['age', 'type_employer', 'fnlwgt', 'education', \n",
    "                \"education_num\",\"marital\", \"occupation\", \"relationship\", \"race\",\"sex\",\n",
    "                \"capital_gain\", \"capital_loss\", \"hr_per_week\",\"country\",\"income\"]\n",
    "df.head()\n",
    "\n"
   ]
  },
  {
   "cell_type": "code",
   "execution_count": null,
   "metadata": {},
   "outputs": [],
   "source": [
    "df.tail()"
   ]
  },
  {
   "cell_type": "code",
   "execution_count": null,
   "metadata": {},
   "outputs": [],
   "source": [
    "df.shape"
   ]
  },
  {
   "cell_type": "markdown",
   "metadata": {},
   "source": [
    "Contar o número de itens por país:"
   ]
  },
  {
   "cell_type": "code",
   "execution_count": null,
   "metadata": {},
   "outputs": [],
   "source": [
    "counts = df.groupby('country').size()\n",
    "\n",
    "print (counts)\n",
    "# outra opção: df.outcome.value_counts()\n",
    "\n",
    "\n"
   ]
  },
  {
   "cell_type": "code",
   "execution_count": null,
   "metadata": {
    "scrolled": false
   },
   "outputs": [],
   "source": [
    "counts = df.groupby('age').size() # agrupando por idade\n",
    "counts "
   ]
  },
  {
   "cell_type": "code",
   "execution_count": null,
   "metadata": {},
   "outputs": [],
   "source": [
    "ml = df[(df.sex == 'Male')] # agrupando por sexo\n",
    "ml.shape"
   ]
  },
  {
   "cell_type": "code",
   "execution_count": null,
   "metadata": {
    "scrolled": true
   },
   "outputs": [],
   "source": [
    "ml1 = df[(df.sex == 'Male')&(df.income=='>50K\\n')]\n",
    "ml1.shape"
   ]
  },
  {
   "cell_type": "markdown",
   "metadata": {},
   "source": [
    "Separar os dados por sexo."
   ]
  },
  {
   "cell_type": "code",
   "execution_count": null,
   "metadata": {},
   "outputs": [],
   "source": [
    "fm =df[(df.sex == 'Female')]\n",
    "fm.shape"
   ]
  },
  {
   "cell_type": "code",
   "execution_count": null,
   "metadata": {},
   "outputs": [],
   "source": [
    "fm1 =df[(df.sex == 'Female')&(df.income=='>50K\\n')]\n",
    "fm1.shape"
   ]
  },
  {
   "cell_type": "code",
   "execution_count": null,
   "metadata": {},
   "outputs": [],
   "source": [
    "df1=df[(df.income=='>50K\\n')]\n",
    "\n",
    "print ('A taxa de pessoas com renda alta é: ', int(len(df1)/float(len(df))*100 ), '%')\n",
    "print ('A taxa de homens com renda alta é: ', int(len(ml1)/float(len(ml))*100), '%.' )\n",
    "print ('A taxa de mulheres com renda alta é: ', int(len(fm1)/float(len(fm))*100), '%.')"
   ]
  },
  {
   "cell_type": "markdown",
   "metadata": {},
   "source": [
    "### Sumarização dos dados\n",
    "#### Média simples"
   ]
  },
  {
   "cell_type": "code",
   "execution_count": null,
   "metadata": {},
   "outputs": [],
   "source": [
    "print ('Média de idade dos homens: ', ml['age'].mean(), '.')\n",
    "print ('Média de idade das mulheres: ', fm['age'].mean(), '.')"
   ]
  },
  {
   "cell_type": "code",
   "execution_count": null,
   "metadata": {},
   "outputs": [],
   "source": [
    "print ('Média de idade dos homens com alta renda: ', ml1['age'].mean(), '.')\n",
    "print ('Média de idade das mulheres com alta renda: ', fm1['age'].mean(), '.')"
   ]
  },
  {
   "cell_type": "markdown",
   "metadata": {},
   "source": [
    "#### Variância e desvio padrão\n",
    "\n",
    "A **variância** descreve o quão os dados estão espalhados. A raiz quadrada da variância é chamada de **desvio padrão**.\n"
   ]
  },
  {
   "cell_type": "code",
   "execution_count": null,
   "metadata": {
    "scrolled": false
   },
   "outputs": [],
   "source": [
    "ml_mu = ml['age'].mean()\n",
    "fm_mu = fm['age'].mean()\n",
    "ml_var = ml['age'].var()\n",
    "fm_var = fm['age'].var()\n",
    "ml_std = ml['age'].std()\n",
    "fm_std = fm['age'].std()\n",
    "print ('Estatísticas da idade para os homens: m:', ml_mu, 'var:', ml_var, 'std:', ml_std)\n",
    "print ('Estatísticas da idade para as mulheres: m:', fm_mu, 'var:', fm_var, 'std:', fm_std)"
   ]
  },
  {
   "cell_type": "code",
   "execution_count": null,
   "metadata": {},
   "outputs": [],
   "source": [
    "ml_mu_hr = ml['hr_per_week'].mean()\n",
    "fm_mu_hr = fm['hr_per_week'].mean()\n",
    "ml_var_hr = ml['hr_per_week'].var()\n",
    "fm_var_hr = fm['hr_per_week'].var()\n",
    "ml_std_hr = ml['hr_per_week'].std()\n",
    "fm_std_hr = fm['hr_per_week'].std()\n",
    "print ('Estatísticas de hora/semana para os homens: m:', ml_mu_hr, 'var:', ml_var_hr, 'std:', ml_std_hr)\n",
    "print ('Estatísticas de hora/semana para as mulheres: m:', fm_mu_hr, 'var:', fm_var_hr, 'std:', fm_std_hr)"
   ]
  },
  {
   "cell_type": "markdown",
   "metadata": {},
   "source": [
    "#### Mediana\n",
    "\n",
    "É um que representa o **meio** dos dados, é mais robusto ao consierar os *outliers*."
   ]
  },
  {
   "cell_type": "code",
   "execution_count": null,
   "metadata": {},
   "outputs": [],
   "source": [
    "ml_median= ml['age'].median()\n",
    "fm_median= fm['age'].median()\n",
    "print (\"Mediana para a idade de homens e mulheres: \", ml_median, fm_median)\n",
    "\n",
    "ml_median_age= ml1['age'].median()\n",
    "fm_median_age= fm1['age'].median()\n",
    "print (\"Mediana para a idade de homens e mulheres de alta renda: \", ml_median_age, fm_median_age)\n"
   ]
  },
  {
   "cell_type": "code",
   "execution_count": null,
   "metadata": {},
   "outputs": [],
   "source": [
    "ml_median_hr= ml['hr_per_week'].median()\n",
    "fm_median_hr= fm['hr_per_week'].median()\n",
    "print (\"Mediana de horas/semana para homens e mulheres: \", ml_median_hr, fm_median_hr)"
   ]
  },
  {
   "cell_type": "markdown",
   "metadata": {},
   "source": [
    "### 2.2 Histogramas"
   ]
  },
  {
   "cell_type": "markdown",
   "metadata": {},
   "source": [
    "Tipo de gráfico bastante usado para mostrar a distribuição dos dados."
   ]
  },
  {
   "cell_type": "code",
   "execution_count": null,
   "metadata": {},
   "outputs": [],
   "source": [
    "import matplotlib.pyplot as plt\n",
    "ml_age=ml['age']\n",
    "ml_age.hist(density=0, histtype='stepfilled', bins=20)\n",
    "\n",
    "plt.xlabel('Idade',fontsize=15)\n",
    "plt.ylabel('Sexo masculino',fontsize=15)\n",
    "plt.show()"
   ]
  },
  {
   "cell_type": "code",
   "execution_count": null,
   "metadata": {},
   "outputs": [],
   "source": [
    "fm_age=fm['age']\n",
    "\n",
    "fm_age.hist(density=0, histtype='stepfilled', bins=20)\n",
    "plt.xlabel('Idade',fontsize=15)\n",
    "plt.ylabel('Sexo feminino',fontsize=15)\n",
    "plt.show()"
   ]
  },
  {
   "cell_type": "markdown",
   "metadata": {},
   "source": [
    "Comparando as duas populações:"
   ]
  },
  {
   "cell_type": "code",
   "execution_count": null,
   "metadata": {},
   "outputs": [],
   "source": [
    "import seaborn as sns\n",
    "fm_age.hist(density=0, histtype='stepfilled', alpha=.5, bins=20)\n",
    "ml_age.hist(density=0, histtype='stepfilled', alpha=.5, color=sns.desaturate(\"indianred\", .75), bins=20)\n",
    "plt.xlabel('Idade',fontsize=15)\n",
    "plt.ylabel('Exemplos',fontsize=15)\n",
    "plt.show()"
   ]
  },
  {
   "cell_type": "code",
   "execution_count": null,
   "metadata": {},
   "outputs": [],
   "source": [
    "import scipy.stats as stats"
   ]
  },
  {
   "cell_type": "markdown",
   "metadata": {},
   "source": [
    "## Outliers\n",
    "\n",
    "**Ouliers** são dados com um valor distante da tendência central.\n",
    "\n",
    "É possível encontrar outliers:\n",
    "\n",
    "+ Calculando os valores que estão **longe** da mediana.\n",
    "+ Calculando valores que **excedem a média** por duas ou três vezes o desvio padrão."
   ]
  },
  {
   "cell_type": "code",
   "execution_count": null,
   "metadata": {},
   "outputs": [],
   "source": [
    "df['age'].std()"
   ]
  },
  {
   "cell_type": "code",
   "execution_count": null,
   "metadata": {},
   "outputs": [],
   "source": [
    "len(df[(df.income == '>50K\\n') & (df['age'] > df['age'].median() + 39)])"
   ]
  },
  {
   "cell_type": "markdown",
   "metadata": {},
   "source": [
    "Excluindo os outliers."
   ]
  },
  {
   "cell_type": "code",
   "execution_count": null,
   "metadata": {},
   "outputs": [],
   "source": [
    "df2 = df.drop(df.index[(df.income=='>50K\\n') & (df['age']>df['age'].median() + 39) & (df['age'] > df['age'].median() -13)])\n",
    "df2.shape"
   ]
  },
  {
   "cell_type": "code",
   "execution_count": null,
   "metadata": {},
   "outputs": [],
   "source": [
    "ml1_age=ml1['age']\n",
    "fm1_age=fm1['age']\n",
    "\n",
    "ml2_age = ml1_age.drop(ml1_age.index[(ml1_age > df['age'].median() + 39) & (ml1_age > df['age'].median() - 13)])\n",
    "fm2_age = fm1_age.drop(fm1_age.index[(fm1_age > df['age'].median() + 39) & (fm1_age > df['age'].median() - 13)])"
   ]
  },
  {
   "cell_type": "code",
   "execution_count": null,
   "metadata": {},
   "outputs": [],
   "source": [
    "mu2ml = ml2_age.mean()\n",
    "std2ml = ml2_age.std()\n",
    "md2ml = ml2_age.median()\n",
    "print (\"Estatísticas para os homens: Mean:\", mu2ml, \"Std:\", std2ml, \"Median:\", md2ml, \"Min:\", ml2_age.min(), \"Max:\", ml2_age.max())"
   ]
  },
  {
   "cell_type": "code",
   "execution_count": null,
   "metadata": {},
   "outputs": [],
   "source": [
    "mu3ml = fm2_age.mean()\n",
    "std3ml = fm2_age.std()\n",
    "md3ml = fm2_age.median()\n",
    "print (\"Estatísticas para as mulheres: Mean:\", mu2ml, \"Std:\", std2ml, \"Median:\", md2ml, \"Min:\", fm2_age.min(), \"Max:\", fm2_age.max())"
   ]
  },
  {
   "cell_type": "code",
   "execution_count": null,
   "metadata": {
    "scrolled": false
   },
   "outputs": [],
   "source": [
    "print ('A diferença da média com outliers é: %4.2f.' % (ml_age.mean() - fm_age.mean()))\n",
    "print ('A diferença da média sem outliers é: %4.2f.' % (ml2_age.mean() - fm2_age.mean()))"
   ]
  },
  {
   "cell_type": "markdown",
   "metadata": {},
   "source": [
    "Comparar as distribuições antes e depois de remover os outliers:"
   ]
  },
  {
   "cell_type": "code",
   "execution_count": null,
   "metadata": {},
   "outputs": [],
   "source": [
    "plt.figure(figsize=(13.4,5))\n",
    "\n",
    "df.age[(df.income == '>50K\\n')].plot(alpha=.25, color='blue')\n",
    "df2.age[(df2.income == '>50K\\n')].plot(alpha=.45,color='red')\n",
    "\n",
    "plt.ylabel('Idade')\n",
    "plt.xlabel('Exemplos')"
   ]
  },
  {
   "cell_type": "markdown",
   "metadata": {},
   "source": [
    "### 2.5 Análise da assimetria.\n",
    "\n",
    "**Skewness (assimetria)** é uma métrica estatística para analisar a assimetria dos dados, calculada pela fórmula:\n",
    "\n",
    "$$ g_1 = \\frac{\\frac{1}{n} \\sum_i (x_i - \\mu)^2 }{\\frac{1}{n} \\sum_i (x_i - \\mu)^3 }$$\n",
    "\n",
    "Se a assimetria é zero, os dados são perfeitamente simétricos (média igual a mediana). \n",
    "**Assimetria positiva** (ou à direita) indica média **maior** que a mediana.\n",
    "**Assimetria negativa** (ou à esquerda) indica média **menor** que a mediana. Além disso:\n",
    "+ Se a assimetria é menor que -1 ou maior que 1, a distribuição é altamente distorcida.\n",
    "+ Se a assimetria é entre -1 e -0,5 ou entre 0,5 e 1, a distribuição é enviesada moderadamente.\n",
    "+ Se a assimetria é entre -0,5 e 0,5, a distribuição é aproximadamente simétrica."
   ]
  },
  {
   "cell_type": "code",
   "execution_count": null,
   "metadata": {
    "scrolled": true
   },
   "outputs": [],
   "source": [
    "def skewness(x):\n",
    "    res=0\n",
    "    m=x.mean()\n",
    "    s=x.std()\n",
    "    for i in x:\n",
    "        res+=(i-m)*(i-m)*(i-m)\n",
    "    res/=(len(x)*s*s*s)\n",
    "    return res\n",
    "\n",
    "print (\"A assimetria da idade da população masculina é:\", skewness(ml2_age))\n",
    "print (\"A assimetria da idade da população feminina é:\", skewness(fm2_age))"
   ]
  },
  {
   "cell_type": "markdown",
   "metadata": {},
   "source": [
    "O **Coeficiente de assimetria da mediana de Pearson** é uma fórmula alternativa.\n",
    "\n",
    "$$ g_p = \\frac{3(\\mu - \\mu_{\\frac{1}{2}})}{\\sigma} $$"
   ]
  },
  {
   "cell_type": "code",
   "execution_count": null,
   "metadata": {},
   "outputs": [],
   "source": [
    "def pearson(x):\n",
    "    return 3*(x.mean()-x.median())/x.std()\n",
    "\n",
    "print (\"Coeficiente de assimetria da mediana de Pearson da idade da população masculina é:\", pearson(ml2_age))\n",
    "print (\"Coeficiente de assimetria da mediana de Pearson da idade da população feminina é:\", pearson(fm2_age))"
   ]
  },
  {
   "cell_type": "markdown",
   "metadata": {},
   "source": [
    "## Risco relativo\n",
    "\n",
    "Digamos que uma pessoa seja promovida \"antecipadamente\" se for promovida antes dos 41 anos; \"no prazo\" se for promovida com 41, 42, 43 ou 44 anos e \"tardia\" se ele / ela passa a ter uma renda maior que 50 mil depois de ter 44 anos de idade. Vamos calcular a probabilidade de ser promovido antecipadamente, no prazo e tarde para homens e mulheres:"
   ]
  },
  {
   "cell_type": "code",
   "execution_count": null,
   "metadata": {
    "scrolled": false
   },
   "outputs": [],
   "source": [
    "print (\"Homens agrupados em 3 categorias:\")\n",
    "print (\"Mais jovens:\",int(round(100*len(ml2_age[ml2_age<41])/float(len(ml2_age.index)))),\"%.\")\n",
    "print (\"Mais velhos:\", int(round(100*len(ml2_age[ml2_age >44])/float(len(ml2_age.index)))),\"%.\")\n",
    "print (\"No prazo:\", int(round(100*len(ml2_age[(ml2_age>40) & (ml2_age< 45)])/float(len(ml2_age.index)))),\"%.\")"
   ]
  },
  {
   "cell_type": "code",
   "execution_count": null,
   "metadata": {},
   "outputs": [],
   "source": [
    "print (\"Mulheres agrupadas em 3 categorias:\")\n",
    "print (\"Mais jovens:\",int(round(100*len(fm2_age[fm2_age <41])/float(len(fm2_age.index)))),\"%.\")\n",
    "print (\"Mais velhas:\", int(round(100*len(fm2_age[fm2_age >44])/float(len(fm2_age.index)))),\"%.\")\n",
    "print (\"No prazo:\", int(round(100*len(fm2_age[(fm2_age>40) & (fm2_age< 45)])/float(len(fm2_age.index)))),\"%.\")\n"
   ]
  },
  {
   "cell_type": "markdown",
   "metadata": {},
   "source": [
    "O **risco relativo** é a razão de duas probabilidades. Para obter o risco relativo de promoção precoce, precisamos considerar a fração de ambas as probabilidades."
   ]
  },
  {
   "cell_type": "code",
   "execution_count": null,
   "metadata": {},
   "outputs": [],
   "source": [
    "print (\"A média masculina:\", ml2_age.mean())\n",
    "print (\"A média feminina:\", fm2_age.mean())\n"
   ]
  },
  {
   "cell_type": "code",
   "execution_count": null,
   "metadata": {},
   "outputs": [],
   "source": [
    "ml2_young = len(ml2_age[(ml2_age<41)])/float(len(ml2_age.index))\n",
    "fm2_young  = len(fm2_age[(fm2_age<41)])/float(len(fm2_age.index))\n",
    "print (\"O risco relativo da promoção antecipada feminina é: \", 100*(1-ml2_young/fm2_young))"
   ]
  },
  {
   "cell_type": "markdown",
   "metadata": {},
   "source": [
    "Isso significa que as mulheres têm 21% mais probabilidade de obter ganhos elevados antes dos 41 anos do que os homens."
   ]
  },
  {
   "cell_type": "code",
   "execution_count": null,
   "metadata": {},
   "outputs": [],
   "source": [
    "ml2_elder = len(ml2_age[(ml2_age>44)])/float(len(ml2_age.index))\n",
    "fm2_elder  = len(fm2_age[(fm2_age>44)])/float(len(fm2_age.index))\n",
    "print (\"O risco relativo da promoção tardia masculina é: \", 100*ml2_elder/fm2_elder)"
   ]
  },
  {
   "cell_type": "markdown",
   "metadata": {},
   "source": [
    "Isso significa que os homens têm 29% mais chances de obter ganhos elevados após 44 anos do que as mulheres."
   ]
  },
  {
   "cell_type": "markdown",
   "metadata": {},
   "source": [
    "Podemos usar a ferramenta **Pandas Profiling** para gerar um relatório com os dados da análise exploratória."
   ]
  },
  {
   "cell_type": "code",
   "execution_count": null,
   "metadata": {},
   "outputs": [],
   "source": [
    "# instalando o pandas profiling\n",
    "!pip install https://github.com/pandas-profiling/pandas-profiling/archive/master.zip"
   ]
  },
  {
   "cell_type": "code",
   "execution_count": null,
   "metadata": {},
   "outputs": [],
   "source": [
    "# import o ProfileReport\n",
    "from pandas_profiling import ProfileReport"
   ]
  },
  {
   "cell_type": "code",
   "execution_count": null,
   "metadata": {},
   "outputs": [],
   "source": [
    "# executando o profile\n",
    "profile = ProfileReport(df, title='Relatório - Pandas Profiling', html={'style':{'full_width':True}})"
   ]
  },
  {
   "cell_type": "code",
   "execution_count": null,
   "metadata": {},
   "outputs": [],
   "source": [
    "profile"
   ]
  },
  {
   "cell_type": "code",
   "execution_count": null,
   "metadata": {},
   "outputs": [],
   "source": [
    "# salvando o relatório\n",
    "profile.to_file(output_file=\"Relatorio01.html\")"
   ]
  },
  {
   "cell_type": "code",
   "execution_count": null,
   "metadata": {},
   "outputs": [],
   "source": []
  }
 ],
 "metadata": {
  "anaconda-cloud": {},
  "kernelspec": {
   "display_name": "Python 3",
   "language": "python",
   "name": "python3"
  },
  "language_info": {
   "codemirror_mode": {
    "name": "ipython",
    "version": 3
   },
   "file_extension": ".py",
   "mimetype": "text/x-python",
   "name": "python",
   "nbconvert_exporter": "python",
   "pygments_lexer": "ipython3",
   "version": "3.7.4"
  }
 },
 "nbformat": 4,
 "nbformat_minor": 1
}
