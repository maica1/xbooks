{
 "metadata": {
  "language_info": {
   "codemirror_mode": {
    "name": "ipython",
    "version": 3
   },
   "file_extension": ".py",
   "mimetype": "text/x-python",
   "name": "python",
   "nbconvert_exporter": "python",
   "pygments_lexer": "ipython3",
   "version": "3.8.5"
  },
  "orig_nbformat": 2,
  "kernelspec": {
   "name": "python385jvsc74a57bd0eaa7843e8493900614d66ccc65364a0507da7ffc1172ab319309591e987c6904",
   "display_name": "Python 3.8.5 64-bit ('base': conda)"
  },
  "metadata": {
   "interpreter": {
    "hash": "eaa7843e8493900614d66ccc65364a0507da7ffc1172ab319309591e987c6904"
   }
  }
 },
 "nbformat": 4,
 "nbformat_minor": 2,
 "cells": [
  {
   "cell_type": "code",
   "execution_count": 1,
   "metadata": {},
   "outputs": [],
   "source": [
    "from  scipy.special import comb"
   ]
  },
  {
   "source": [
    "Em um concurso para preencher uma vaga de cientista de dados temos um total de **10 questões** de múltipla escolha com **3 alternativas possíveis** em cada questão. **Cada questão tem o mesmo valor.** Suponha que um candidato resolva se aventurar sem ter estudado absolutamente nada. Ele resolve fazer a prova de olhos vendados e chutar todas as resposta. Assumindo que a prova **vale 10 pontos e a nota de corte seja 5**, obtenha a probabilidade deste candidato **acertar 5 questões** e também a probabilidade deste candidato **passar para a próxima etapa do processo seletivo**."
   ],
   "cell_type": "markdown",
   "metadata": {}
  },
  {
   "source": [
    "### Qual n de ensaios?"
   ],
   "cell_type": "markdown",
   "metadata": {}
  },
  {
   "cell_type": "code",
   "execution_count": 2,
   "metadata": {},
   "outputs": [],
   "source": [
    "n=10"
   ]
  },
  {
   "source": [
    "Os ensaios são independentes? R: sim"
   ],
   "cell_type": "markdown",
   "metadata": {}
  },
  {
   "source": [
    "Os ensaios são binários? R: sim"
   ],
   "cell_type": "markdown",
   "metadata": {}
  },
  {
   "source": [
    "Qual a probabilidade de sucesso? "
   ],
   "cell_type": "markdown",
   "metadata": {}
  },
  {
   "cell_type": "code",
   "execution_count": 3,
   "metadata": {},
   "outputs": [],
   "source": [
    "n_alternativas_questao = 3\n",
    "p = 1/n_alternativas_questao\n"
   ]
  },
  {
   "source": [
    "Qual a probabilidade de fracasso?"
   ],
   "cell_type": "markdown",
   "metadata": {}
  },
  {
   "cell_type": "code",
   "execution_count": 4,
   "metadata": {},
   "outputs": [],
   "source": [
    "q= 1- p"
   ]
  },
  {
   "source": [
    "Qual o total de eventos se deseja ter sucesso(k)?\n"
   ],
   "cell_type": "markdown",
   "metadata": {}
  },
  {
   "cell_type": "code",
   "execution_count": 5,
   "metadata": {},
   "outputs": [],
   "source": [
    "k = 5"
   ]
  },
  {
   "cell_type": "code",
   "execution_count": 6,
   "metadata": {},
   "outputs": [],
   "source": [
    "probabilidade = ( comb(n,k)) * ( p**k ) * ( q**( n-k ))\n"
   ]
  },
  {
   "cell_type": "code",
   "execution_count": 7,
   "metadata": {},
   "outputs": [],
   "source": [
    "from scipy.stats import binom"
   ]
  },
  {
   "cell_type": "code",
   "execution_count": 8,
   "metadata": {},
   "outputs": [],
   "source": [
    "prob = binom.pmf(k,n,p)"
   ]
  },
  {
   "source": [
    "Aqui a probabilidade de o candidato acertar 5 é implicita, no entanto a probabilidade de o candidato passar no exame, implica na probabilidade de acertar 5 ou mais questões, ou seja, a probabilidade de acertar 5 + P(6) + + P(7) + P(8) + P(9) + P(10)"
   ],
   "cell_type": "markdown",
   "metadata": {}
  },
  {
   "cell_type": "code",
   "execution_count": 9,
   "metadata": {},
   "outputs": [
    {
     "output_type": "execute_result",
     "data": {
      "text/plain": [
       "0.2131280800690952"
      ]
     },
     "metadata": {},
     "execution_count": 9
    }
   ],
   "source": [
    "binom.pmf([5,6,7,8,9,10],n,p).sum()"
   ]
  },
  {
   "source": [
    "Outra forma é calcular a prob de acertar todas(1) -- a prob de acertar 4 questões de forma cumulativa(cdf)."
   ],
   "cell_type": "markdown",
   "metadata": {}
  },
  {
   "cell_type": "code",
   "execution_count": 10,
   "metadata": {},
   "outputs": [
    {
     "output_type": "execute_result",
     "data": {
      "text/plain": [
       "0.21312808006909512"
      ]
     },
     "metadata": {},
     "execution_count": 10
    }
   ],
   "source": [
    "1 - binom.cdf(4,n,p)"
   ]
  },
  {
   "source": [
    "Uma cidade do interior realiza todos os anos uma gincana para arrecadar fundos para o hospital da cidade. Na última gincana se sabe que a **proporção de participantes do sexo feminino foi de 60%**. **O total de equipes, com 12 integrantes, inscritas na gincana deste ano é de 30**. Com as informações acima responda: Quantas equipes deverão ser formadas por **8 mulheres**?"
   ],
   "cell_type": "markdown",
   "metadata": {}
  },
  {
   "cell_type": "code",
   "execution_count": 17,
   "metadata": {},
   "outputs": [],
   "source": [
    "p = 0.6\n",
    "q = 1-p\n",
    "n = 12\n",
    "k = 8"
   ]
  },
  {
   "cell_type": "code",
   "execution_count": 18,
   "metadata": {},
   "outputs": [],
   "source": [
    "prob = binom.pmf(k,n,p)"
   ]
  },
  {
   "cell_type": "code",
   "execution_count": 20,
   "metadata": {},
   "outputs": [],
   "source": [
    "equipes = prob * 30"
   ]
  },
  {
   "source": [
    "Os dados são baseados na probabilidade de ter uma quantidade x de meninas na prova, então \n",
    "p é a probabilidade do participante em questão ser uma mulher(60% de chance de acordo com estudo anterior\n",
    "N é o número de participantes da equipe, e 8 a quantidade de sucessos desejada na série.\n",
    "Após este calculo unitário o resultado é multiplicado por 30 para se ter a visão da competição e não apenas de uma equipe."
   ],
   "cell_type": "markdown",
   "metadata": {}
  }
 ]
}